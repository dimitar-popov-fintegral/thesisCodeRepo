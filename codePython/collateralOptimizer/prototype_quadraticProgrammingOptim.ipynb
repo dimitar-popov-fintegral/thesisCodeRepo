{
 "cells": [
  {
   "cell_type": "code",
   "execution_count": 41,
   "metadata": {
    "collapsed": true
   },
   "outputs": [],
   "source": [
    "# coding=utf-8\n",
    "\n",
    "# @date: 20160902\n",
    "# @author: DA Popov\n",
    "# @note: given recent difficulties in implementing the solver KNITRO, it was decided to attempt use of an alternative\n",
    "\n",
    "## Imports \n",
    "import numpy as np\n",
    "import pandas as pd\n",
    "from cvxopt import matrix\n",
    "from cvxopt import solvers\n",
    "from sklearn.covariance import *"
   ]
  },
  {
   "cell_type": "code",
   "execution_count": 42,
   "metadata": {
    "collapsed": true
   },
   "outputs": [],
   "source": [
    "## Functions\n",
    "# Function prepareProblem: this function constructs the variance-covariance matrix\n",
    "# @param filePath:\n",
    "# @param fileName:\n",
    "# @param shrinkage: whether to apply the Ledoit, Wolf (2004) linear shrinkage estimator\n",
    "def prepareProblem(filePath, shrinkage=False, subset=False, subsetSize=0):\n",
    "    # Import data from .csv\n",
    "    df = pd.read_csv(filePath, sep=';')\n",
    "    df.index = df.date\n",
    "    df = df.drop('date', axis=1)\n",
    "\n",
    "    # Subset, if called via subset == True\n",
    "    if subset == True:\n",
    "        df = df.tail(subsetSize)\n",
    "\n",
    "    # Estimate covariance using Empirical/MLE\n",
    "    # Expected input is returns, hence set: assume_centered = True\n",
    "    mleFitted = empirical_covariance(X=df, assume_centered=True)\n",
    "    sigma = mleFitted\n",
    "\n",
    "    if shrinkage == True:\n",
    "        # Estimate covariance using LedoitWolf, first create instance of object\n",
    "        lw = LedoitWolf(assume_centered=True)\n",
    "        lwFitted = lw.fit(X=df).covariance_\n",
    "        sigma = lwFitted\n",
    "\n",
    "    return sigma"
   ]
  },
  {
   "cell_type": "code",
   "execution_count": 43,
   "metadata": {
    "collapsed": false
   },
   "outputs": [],
   "source": [
    "## Main\n",
    "# read & construct data, matrices etc.\n",
    "filePath = '/Users/Dim/Desktop/school_folder/masters_thesis/gitCodeRepo/data/noStaleX_returnsData_20160825.csv'\n",
    "matSigma = prepareProblem(filePath=filePath, shrinkage=False, subset=True, subsetSize=250)\n",
    "vecVola  = np.sqrt(matSigma.diagonal())\n",
    "n        = vecVola.shape[0] \n",
    "\n",
    "# Check for postive definite covariance matrix, if not exit\n",
    "if np.all(np.linalg.eigvals(matSigma) > 0) == False:\n",
    "    print \"Sigma matrix not positive definite, solution may not be unique! \\nProceed Checking for semi-definiteness\\n\"\n",
    "    if np.all(np.linalg.eigvals(matSigma) >= 0) == False:\n",
    "        print \"Sigma matrix not positive semi-definite!\"\n",
    "        raise SystemExit"
   ]
  },
  {
   "cell_type": "code",
   "execution_count": 44,
   "metadata": {
    "collapsed": false
   },
   "outputs": [],
   "source": [
    "# Parameterize solver, using standard notation for cvxopt\n",
    "P = matrix(matSigma,tc='d')\n",
    "q = matrix(np.zeros(shape=(n, 1)), tc='d')\n",
    "G = matrix(np.diag(np.repeat(a=-1, repeats=n)), tc='d')\n",
    "g = matrix(np.zeros(shape=(n, 1)), tc='d')\n",
    "A = matrix(vecVola.reshape(1,n), tc='d')\n",
    "a = matrix(np.array([1]), tc='d')"
   ]
  },
  {
   "cell_type": "code",
   "execution_count": 45,
   "metadata": {
    "collapsed": false
   },
   "outputs": [
    {
     "name": "stdout",
     "output_type": "stream",
     "text": [
      "     pcost       dcost       gap    pres   dres\n",
      " 0:  8.9259e-02 -6.5205e+01  7e+01  3e-16  2e+01\n",
      " 1:  8.9021e-02 -8.8430e-01  1e+00  1e-15  3e-01\n",
      " 2:  7.7802e-02 -1.4105e-01  2e-01  9e-16  5e-02\n",
      " 3:  5.9608e-02 -3.0594e-02  9e-02  1e-15  2e-02\n",
      " 4:  4.4716e-02  1.1967e-02  3e-02  3e-15  2e-03\n",
      " 5:  3.7833e-02  2.8201e-02  1e-02  3e-15  4e-05\n",
      " 6:  3.5656e-02  3.3518e-02  2e-03  2e-15  7e-06\n",
      " 7:  3.4908e-02  3.4471e-02  4e-04  2e-15  1e-06\n",
      " 8:  3.4713e-02  3.4652e-02  6e-05  2e-15  1e-07\n",
      " 9:  3.4680e-02  3.4678e-02  2e-06  2e-15  9e-10\n",
      "10:  3.4679e-02  3.4679e-02  1e-07  2e-15  3e-11\n",
      "Optimal solution found.\n"
     ]
    }
   ],
   "source": [
    "# Invoke solver \n",
    "sol = solvers.qp(A=A, b=a, G=G, h=g, P=P, q=q)"
   ]
  },
  {
   "cell_type": "code",
   "execution_count": 46,
   "metadata": {
    "collapsed": false
   },
   "outputs": [],
   "source": [
    "# Solution\n",
    "xOpt = np.array(sol['x'])\n",
    "fOpt = np.array(sol['primal objective'])"
   ]
  },
  {
   "cell_type": "code",
   "execution_count": null,
   "metadata": {
    "collapsed": true
   },
   "outputs": [],
   "source": [
    ""
   ]
  }
 ],
 "metadata": {
  "kernelspec": {
   "display_name": "Python 2",
   "language": "python",
   "name": "python2"
  },
  "language_info": {
   "codemirror_mode": {
    "name": "ipython",
    "version": 2.0
   },
   "file_extension": ".py",
   "mimetype": "text/x-python",
   "name": "python",
   "nbconvert_exporter": "python",
   "pygments_lexer": "ipython2",
   "version": "2.7.12"
  }
 },
 "nbformat": 4,
 "nbformat_minor": 0
}