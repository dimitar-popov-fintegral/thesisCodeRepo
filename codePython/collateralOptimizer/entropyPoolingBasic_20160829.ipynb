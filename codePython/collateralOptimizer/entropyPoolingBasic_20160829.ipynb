{
 "cells": [
  {
   "cell_type": "markdown",
   "metadata": {},
   "source": [
    "# Basic Entropy Pooling\n",
    "#### The idea is to create a simple, fully specified, multi-variate model for the core collateral portfolio. In it's most basic format, a MV-normal model shall suffice. This constitute the prior. \n",
    "#### The views on the simple model can be of the following form:\n",
    "##### ->> Means drop to zero or are negative, for all assets \n",
    "##### ->> Variances increase, covariances increase with y%, for all asset pairs \n",
    "##### ->> Similar such BS, relating mean and variance and possibly other factors influencing the model (similar to the inflation example in the Butterfly trading task [Question:Is this even possible in the simple Meucci setup?])\n",
    "#### Using the posterior distribution, solve the optimization problem to obtain possible stress-scenario implied collateral holdings"
   ]
  },
  {
   "cell_type": "code",
   "execution_count": 1,
   "metadata": {
    "collapsed": true
   },
   "outputs": [],
   "source": [
    "%matplotlib inline\n",
    "# coding=utf-8\n",
    "\n",
    "# Python 3 style division operator w/o the need to convert to float\n",
    "from __future__ import division\n",
    "\n",
    "import sys\n",
    "sys.path.extend(['/Users/Dim/Desktop/school_folder/masters_thesis/gitCodeRepo/codePython/collateralOptimizer/'])\n",
    "import pandas as pd\n",
    "import numpy as np\n",
    "from sklearn.covariance import *"
   ]
  },
  {
   "cell_type": "code",
   "execution_count": 85,
   "metadata": {
    "collapsed": true
   },
   "outputs": [],
   "source": [
    "# Function prepareProblem: this function constructs the mean vector & variance-covariance matrix\n",
    "# @param filePath:\n",
    "# @param shrinkage: whether to apply the Ledoit, Wolf (2004) linear shrinkage estimator\n",
    "# @param subsetSize: how many days of historical data to use for estimation purpose\n",
    "def prepareProblem(filePath, shrinkage=False, subset=False, subsetSize=0):\n",
    "    # Import data from .csv\n",
    "    df = pd.read_csv(filePath, sep=';')\n",
    "    df.index = df.date\n",
    "    df = df.drop('date', axis=1)\n",
    "    \n",
    "    # Estimate mean\n",
    "    mu = df.mean(axis=0)\n",
    "\n",
    "    # Subset, if called via subset == True\n",
    "    if subset == True:\n",
    "        df = df.tail(subsetSize)\n",
    "\n",
    "    # Estimate covariance using Empirical/MLE\n",
    "    # Expected input is returns, hence set: assume_centered = True\n",
    "    mleFitted = empirical_covariance(X=df, assume_centered=True)\n",
    "    sigma = mleFitted\n",
    "\n",
    "    if shrinkage == True:\n",
    "        # Estimate covariance using LedoitWolf, first create instance of object\n",
    "        lw = LedoitWolf(assume_centered=True)\n",
    "        lwFitted = lw.fit(X=df).covariance_\n",
    "        sigma = lwFitted\n",
    "\n",
    "    return {'Mu_':mu, 'S_':sigma}\n",
    "\n",
    "def getISIN(filePath):\n",
    "    # Import data from .csv\n",
    "    df = pd.read_csv(filePath, sep=';')\n",
    "    df.index = df.date\n",
    "    df = df.drop('date', axis=1)\n",
    "    \n",
    "    # Extract names\n",
    "    return df.columns \n",
    "\n",
    "# Set path\n",
    "filePath = '/Users/Dim/Desktop/school_folder/masters_thesis/gitCodeRepo/data/noStaleX_returnsData_20160825.csv'"
   ]
  },
  {
   "cell_type": "code",
   "execution_count": 3,
   "metadata": {
    "collapsed": true
   },
   "outputs": [],
   "source": [
    "# Collect data, prepare mean and covariance matrix\n",
    "dataDict = prepareProblem(filePath=filePath, shrinkage=True, subset=True, subsetSize=250)"
   ]
  },
  {
   "cell_type": "code",
   "execution_count": 44,
   "metadata": {
    "collapsed": false
   },
   "outputs": [],
   "source": [
    "# Spec. a MV normal model using the estimated mean and covariances\n",
    "N   = dataDict['Mu_'].shape[0]\n",
    "J   = int(1e3)\n",
    "p   = [1/J] * J\n",
    "mu  = np.asanyarray(dataDict['Mu_']).reshape(1, dataDict['Mu_'].__len__())\n",
    "var = np.random.multivariate_normal(mean=dataDict['Mu_'], \n",
    "                                    cov=dataDict['S_'], \n",
    "                                    size=int(J/2)) # Antithetic sampling to reduce variance\n",
    "\n",
    "# Construct X = mu_i + var_i model \n",
    "X = np.dot(np.ones(shape=(J, 1)), mu) + np.concatenate([var, -var], axis=0)\n",
    "\n",
    "# Spec. views on the MV model\n"
   ]
  },
  {
   "cell_type": "code",
   "execution_count": null,
   "metadata": {
    "collapsed": true
   },
   "outputs": [],
   "source": []
  }
 ],
 "metadata": {
  "kernelspec": {
   "display_name": "Python 2",
   "language": "python",
   "name": "python2"
  },
  "language_info": {
   "codemirror_mode": {
    "name": "ipython",
    "version": 2
   },
   "file_extension": ".py",
   "mimetype": "text/x-python",
   "name": "python",
   "nbconvert_exporter": "python",
   "pygments_lexer": "ipython2",
   "version": "2.7.12"
  }
 },
 "nbformat": 4,
 "nbformat_minor": 0
}
